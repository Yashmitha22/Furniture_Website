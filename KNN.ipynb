{
  "nbformat": 4,
  "nbformat_minor": 0,
  "metadata": {
    "colab": {
      "provenance": [],
      "authorship_tag": "ABX9TyOpzTs519Uog8wrjVEODN86",
      "include_colab_link": true
    },
    "kernelspec": {
      "name": "python3",
      "display_name": "Python 3"
    },
    "language_info": {
      "name": "python"
    }
  },
  "cells": [
    {
      "cell_type": "markdown",
      "metadata": {
        "id": "view-in-github",
        "colab_type": "text"
      },
      "source": [
        "<a href=\"https://colab.research.google.com/github/Yashmitha22/Furniture_Website/blob/main/KNN.ipynb\" target=\"_parent\"><img src=\"https://colab.research.google.com/assets/colab-badge.svg\" alt=\"Open In Colab\"/></a>"
      ]
    },
    {
      "cell_type": "code",
      "execution_count": 2,
      "metadata": {
        "colab": {
          "base_uri": "https://localhost:8080/"
        },
        "id": "pE_PRUbC4iF3",
        "outputId": "3a4c383f-7c06-40f4-fc09-6d45111f15a4"
      },
      "outputs": [
        {
          "output_type": "stream",
          "name": "stdout",
          "text": [
            "\n",
            "Regular k-NN:\n",
            "k=1, Accuracy=1.00, F1=1.00\n",
            "k=3, Accuracy=1.00, F1=1.00\n",
            "k=5, Accuracy=1.00, F1=1.00\n",
            "\n",
            "Weighted k-NN:\n",
            "k=1, Accuracy=1.00, F1=1.00\n",
            "k=3, Accuracy=1.00, F1=1.00\n",
            "k=5, Accuracy=1.00, F1=1.00\n"
          ]
        }
      ],
      "source": [
        "import pandas as pd\n",
        "from sklearn.model_selection import train_test_split\n",
        "from sklearn.preprocessing import StandardScaler\n",
        "from sklearn.neighbors import KNeighborsClassifier\n",
        "from sklearn.metrics import accuracy_score, f1_score\n",
        "\n",
        "X = pd.read_csv('Iris.csv').iloc[:, :-1].values\n",
        "y = pd.read_csv('Iris.csv').iloc[:, -1].values\n",
        "\n",
        "X_train, X_test, y_train, y_test = train_test_split(X, y, test_size=0.2, random_state=42, stratify=y)\n",
        "\n",
        "scaler = StandardScaler()\n",
        "X_train = scaler.fit_transform(X_train)\n",
        "X_test = scaler.transform(X_test)\n",
        "\n",
        "for weight in ['uniform', 'distance']:\n",
        "    print(\"\\nWeighted k-NN:\" if weight == 'distance' else \"\\nRegular k-NN:\")\n",
        "    for k in [1, 3, 5]:\n",
        "        clf = KNeighborsClassifier(n_neighbors=k, weights=weight).fit(X_train, y_train)\n",
        "        y_pred = clf.predict(X_test)\n",
        "        print(f\"k={k}, Accuracy={accuracy_score(y_test, y_pred):.2f}, F1={f1_score(y_test, y_pred, average='weighted'):.2f}\")\n"
      ]
    }
  ]
}